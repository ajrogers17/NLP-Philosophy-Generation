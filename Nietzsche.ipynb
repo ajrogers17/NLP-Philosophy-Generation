{
  "nbformat": 4,
  "nbformat_minor": 0,
  "metadata": {
    "accelerator": "GPU",
    "colab": {
      "name": "Nietzsche.ipynb",
      "provenance": [],
      "collapsed_sections": [
        "qdRz0Ucc2BjK",
        "zjYAo-uH2HjR",
        "WGzUC0gz2L63",
        "hNU_ZcwQ2Swk"
      ]
    },
    "kernelspec": {
      "display_name": "Python 3",
      "name": "python3"
    }
  },
  "cells": [
    {
      "cell_type": "markdown",
      "metadata": {
        "id": "qdRz0Ucc2BjK"
      },
      "source": [
        "#Import Libraries"
      ]
    },
    {
      "cell_type": "code",
      "metadata": {
        "id": "NzTHel-Ghy0J"
      },
      "source": [
        "import tensorflow as tf\n",
        "from tensorflow.keras.preprocessing.sequence import pad_sequences\n",
        "from tensorflow.keras.layers import Embedding, LSTM, Dense, Bidirectional\n",
        "from tensorflow.keras.preprocessing.text import Tokenizer\n",
        "from tensorflow.keras.models import Sequential\n",
        "from tensorflow.keras.optimizers import Adam\n",
        "import numpy as np \n",
        "import matplotlib.pyplot as plt\n",
        "import requests\n",
        "import os"
      ],
      "execution_count": 5,
      "outputs": []
    },
    {
      "cell_type": "markdown",
      "metadata": {
        "id": "zjYAo-uH2HjR"
      },
      "source": [
        "#Preprocess Text"
      ]
    },
    {
      "cell_type": "code",
      "metadata": {
        "colab": {
          "base_uri": "https://localhost:8080/"
        },
        "id": "arDzWw6t2S_p",
        "outputId": "4c888098-b3c7-4631-a2e8-d89242e21610"
      },
      "source": [
        "file_path = tf.keras.utils.get_file('Nietzsche.txt', 'https://s3.amazonaws.com/text-datasets/nietzsche.txt' )\n",
        "\n",
        "f = open(file_path, 'rb').read().decode(encoding='utf-8')\n",
        "\n",
        "text = f.lower()\n",
        "vocabulary = sorted(set(text))\n",
        "\n",
        "char2idx = {u:i for i,u in enumerate(vocabulary)} #Dictionary that maps character to index\n",
        "idx2char = np.array(vocabulary)                   #An array with vocabulary\n",
        "\n",
        "text_as_int = np.array([char2idx[c] for c in text]) #Takes in text and returns as integers\n",
        "\n",
        "seq_len = 100\n",
        "ex_per_epochs = len(text) // (seq_len + 1)\n",
        "\n",
        "char_dataset = tf.data.Dataset.from_tensor_slices(text_as_int) #Makes text a tf dataset\n",
        "\n",
        "for i in char_dataset.take(10):\n",
        "    print(idx2char[i.numpy()])"
      ],
      "execution_count": 6,
      "outputs": [
        {
          "output_type": "stream",
          "text": [
            "p\n",
            "r\n",
            "e\n",
            "f\n",
            "a\n",
            "c\n",
            "e\n",
            "\n",
            "\n",
            "\n",
            "\n",
            "\n",
            "\n"
          ],
          "name": "stdout"
        }
      ]
    },
    {
      "cell_type": "code",
      "metadata": {
        "colab": {
          "base_uri": "https://localhost:8080/"
        },
        "id": "hV2_OzjZlcso",
        "outputId": "25c929af-8ad4-401f-e3a6-200d50bd67d3"
      },
      "source": [
        "sequences = char_dataset.batch(seq_len+1, drop_remainder=True) #Combines consecutive elements into batches\n",
        "\n",
        "def split_input_target(chunk):\n",
        "  '''Takes input and creates a target text'''\n",
        "  input_text = chunk[:-1]\n",
        "  target_text = chunk[1:]\n",
        "  return input_text, target_text\n",
        "\n",
        "dataset = sequences.map(split_input_target)\n",
        "\n",
        "for i, t in dataset.take(1):\n",
        "    print('Input: ', repr(''.join(idx2char[i.numpy()])))\n",
        "    print('Target: ', repr(''.join(idx2char[t.numpy()])))\n",
        "    \n",
        "    \n",
        "    \n",
        "batch_size = 128\n",
        "buffer_size = 10000\n",
        "\n",
        "dataset = dataset.shuffle(buffer_size).batch(batch_size, drop_remainder=True)\n",
        "\n",
        "dataset"
      ],
      "execution_count": 7,
      "outputs": [
        {
          "output_type": "stream",
          "text": [
            "Input:  'preface\\n\\n\\nsupposing that truth is a woman--what then? is there not ground\\nfor suspecting that all ph'\n",
            "Target:  'reface\\n\\n\\nsupposing that truth is a woman--what then? is there not ground\\nfor suspecting that all phi'\n"
          ],
          "name": "stdout"
        },
        {
          "output_type": "execute_result",
          "data": {
            "text/plain": [
              "<BatchDataset shapes: ((128, 100), (128, 100)), types: (tf.int64, tf.int64)>"
            ]
          },
          "metadata": {
            "tags": []
          },
          "execution_count": 7
        }
      ]
    },
    {
      "cell_type": "code",
      "metadata": {
        "id": "BaiEaPFKleeh"
      },
      "source": [
        "vocab_size = len(vocabulary)\n",
        "\n",
        "embedding_dim = 256"
      ],
      "execution_count": 8,
      "outputs": []
    },
    {
      "cell_type": "markdown",
      "metadata": {
        "id": "WGzUC0gz2L63"
      },
      "source": [
        "#Build, Compile, and Train Model"
      ]
    },
    {
      "cell_type": "code",
      "metadata": {
        "colab": {
          "base_uri": "https://localhost:8080/"
        },
        "id": "XhyQagNC91Ar",
        "outputId": "4277d36e-27ea-4f7a-fa36-4d37e4e3b5bd"
      },
      "source": [
        "def build_model(vocab_size, embedding_dim, batch_size):\n",
        "  '''\n",
        "  Creates a RNN using stacked GRU layers\n",
        "  '''\n",
        "  model = Sequential([\n",
        "    tf.keras.layers.Embedding(vocab_size, embedding_dim, batch_input_shape=[batch_size, None]),\n",
        "    tf.keras.layers.GRU(1024,\n",
        "                        return_sequences = True,\n",
        "                        stateful=True,\n",
        "                        recurrent_initializer='glorot_uniform'),\n",
        "    tf.keras.layers.GRU(1024,\n",
        "                        return_sequences = True,\n",
        "                        stateful=True,\n",
        "                        recurrent_initializer='glorot_uniform'),\n",
        "    #tf.keras.layers.Bidirectional(LSTM(256, return_sequences = True)),\n",
        "    tf.keras.layers.Dense(vocab_size)\n",
        "  ])\n",
        "  return model\n",
        "\n",
        "\n",
        "# Directory where the checkpoints will be saved\n",
        "checkpoint_dir = './training_checkpoints'\n",
        "# Name of the checkpoint files\n",
        "checkpoint_prefix = os.path.join(checkpoint_dir, \"ckpt_{epoch}\")\n",
        "\n",
        "checkpoint_callback = tf.keras.callbacks.ModelCheckpoint(\n",
        "    filepath=checkpoint_prefix,\n",
        "    save_weights_only=True)\n",
        "\n",
        "\n",
        "#builds model using dataset \n",
        "model = build_model(\n",
        "    vocab_size=len(vocabulary),\n",
        "    embedding_dim=embedding_dim,\n",
        "    batch_size=batch_size)\n",
        "\n",
        "for i, t in dataset.take(5):\n",
        "    pred = model(i)\n",
        "    print(pred.shape)\n",
        "    \n",
        "print(model.summary())"
      ],
      "execution_count": 9,
      "outputs": [
        {
          "output_type": "stream",
          "text": [
            "(128, 100, 57)\n",
            "(128, 100, 57)\n",
            "(128, 100, 57)\n",
            "(128, 100, 57)\n",
            "(128, 100, 57)\n",
            "Model: \"sequential\"\n",
            "_________________________________________________________________\n",
            "Layer (type)                 Output Shape              Param #   \n",
            "=================================================================\n",
            "embedding (Embedding)        (128, None, 256)          14592     \n",
            "_________________________________________________________________\n",
            "gru (GRU)                    (128, None, 1024)         3938304   \n",
            "_________________________________________________________________\n",
            "gru_1 (GRU)                  (128, None, 1024)         6297600   \n",
            "_________________________________________________________________\n",
            "dense (Dense)                (128, None, 57)           58425     \n",
            "=================================================================\n",
            "Total params: 10,308,921\n",
            "Trainable params: 10,308,921\n",
            "Non-trainable params: 0\n",
            "_________________________________________________________________\n",
            "None\n"
          ],
          "name": "stdout"
        }
      ]
    },
    {
      "cell_type": "code",
      "metadata": {
        "colab": {
          "base_uri": "https://localhost:8080/",
          "height": 1000
        },
        "id": "348a21BMliXf",
        "outputId": "75e8f2ae-0740-4836-8a92-4beddc8368ca"
      },
      "source": [
        "def loss(labels, logits):\n",
        "    '''Sparse Categorical Crossentropy Loss Function'''\n",
        "    return tf.keras.losses.sparse_categorical_crossentropy(labels, logits, from_logits=True)\n",
        "\n",
        "\n",
        "model.compile(optimizer = 'adam', loss=loss, metrics = ['accuracy'])\n",
        "history = model.fit(dataset, epochs=50, verbose = 1, callbacks=[checkpoint_callback])\n",
        "tf.train.latest_checkpoint(checkpoint_dir)"
      ],
      "execution_count": 10,
      "outputs": [
        {
          "output_type": "stream",
          "text": [
            "Epoch 1/50\n",
            "46/46 [==============================] - 13s 234ms/step - loss: 3.5695 - accuracy: 0.1154\n",
            "Epoch 2/50\n",
            "46/46 [==============================] - 12s 240ms/step - loss: 2.6071 - accuracy: 0.2729\n",
            "Epoch 3/50\n",
            "46/46 [==============================] - 12s 239ms/step - loss: 2.2918 - accuracy: 0.3354\n",
            "Epoch 4/50\n",
            "46/46 [==============================] - 11s 235ms/step - loss: 2.0583 - accuracy: 0.3971\n",
            "Epoch 5/50\n",
            "46/46 [==============================] - 11s 234ms/step - loss: 1.8693 - accuracy: 0.4487\n",
            "Epoch 6/50\n",
            "46/46 [==============================] - 11s 232ms/step - loss: 1.7010 - accuracy: 0.4974\n",
            "Epoch 7/50\n",
            "46/46 [==============================] - 11s 234ms/step - loss: 1.5784 - accuracy: 0.5318\n",
            "Epoch 8/50\n",
            "46/46 [==============================] - 11s 236ms/step - loss: 1.4800 - accuracy: 0.5576\n",
            "Epoch 9/50\n",
            "46/46 [==============================] - 12s 237ms/step - loss: 1.4052 - accuracy: 0.5772\n",
            "Epoch 10/50\n",
            "46/46 [==============================] - 12s 236ms/step - loss: 1.3490 - accuracy: 0.5918\n",
            "Epoch 11/50\n",
            "46/46 [==============================] - 11s 235ms/step - loss: 1.3024 - accuracy: 0.6022\n",
            "Epoch 12/50\n",
            "46/46 [==============================] - 12s 235ms/step - loss: 1.2611 - accuracy: 0.6134\n",
            "Epoch 13/50\n",
            "46/46 [==============================] - 11s 233ms/step - loss: 1.2230 - accuracy: 0.6228\n",
            "Epoch 14/50\n",
            "46/46 [==============================] - 11s 235ms/step - loss: 1.1804 - accuracy: 0.6361\n",
            "Epoch 15/50\n",
            "46/46 [==============================] - 12s 236ms/step - loss: 1.1417 - accuracy: 0.6464\n",
            "Epoch 16/50\n",
            "46/46 [==============================] - 11s 236ms/step - loss: 1.1047 - accuracy: 0.6569\n",
            "Epoch 17/50\n",
            "46/46 [==============================] - 11s 235ms/step - loss: 1.0629 - accuracy: 0.6699\n",
            "Epoch 18/50\n",
            "46/46 [==============================] - 11s 234ms/step - loss: 1.0223 - accuracy: 0.6826\n",
            "Epoch 19/50\n",
            "46/46 [==============================] - 11s 235ms/step - loss: 0.9770 - accuracy: 0.6975\n",
            "Epoch 20/50\n",
            "46/46 [==============================] - 11s 234ms/step - loss: 0.9259 - accuracy: 0.7154\n",
            "Epoch 21/50\n",
            "46/46 [==============================] - 12s 235ms/step - loss: 0.8775 - accuracy: 0.7318\n",
            "Epoch 22/50\n",
            "46/46 [==============================] - 12s 235ms/step - loss: 0.8247 - accuracy: 0.7522\n",
            "Epoch 23/50\n",
            "46/46 [==============================] - 12s 236ms/step - loss: 0.7699 - accuracy: 0.7728\n",
            "Epoch 24/50\n",
            "46/46 [==============================] - 12s 235ms/step - loss: 0.7113 - accuracy: 0.7944\n",
            "Epoch 25/50\n",
            "46/46 [==============================] - 11s 235ms/step - loss: 0.6612 - accuracy: 0.8147\n",
            "Epoch 26/50\n",
            "46/46 [==============================] - 12s 236ms/step - loss: 0.6074 - accuracy: 0.8349\n",
            "Epoch 27/50\n",
            "46/46 [==============================] - 11s 234ms/step - loss: 0.5566 - accuracy: 0.8535\n",
            "Epoch 28/50\n",
            "46/46 [==============================] - 11s 235ms/step - loss: 0.5075 - accuracy: 0.8718\n",
            "Epoch 29/50\n",
            "46/46 [==============================] - 11s 235ms/step - loss: 0.4681 - accuracy: 0.8877\n",
            "Epoch 30/50\n",
            "46/46 [==============================] - 12s 236ms/step - loss: 0.4323 - accuracy: 0.9003\n",
            "Epoch 31/50\n",
            "46/46 [==============================] - 12s 235ms/step - loss: 0.4000 - accuracy: 0.9108\n",
            "Epoch 32/50\n",
            "46/46 [==============================] - 12s 236ms/step - loss: 0.3752 - accuracy: 0.9193\n",
            "Epoch 33/50\n",
            "46/46 [==============================] - 11s 236ms/step - loss: 0.3513 - accuracy: 0.9257\n",
            "Epoch 34/50\n",
            "46/46 [==============================] - 11s 234ms/step - loss: 0.3337 - accuracy: 0.9319\n",
            "Epoch 35/50\n",
            "46/46 [==============================] - 11s 235ms/step - loss: 0.3166 - accuracy: 0.9364\n",
            "Epoch 36/50\n",
            "46/46 [==============================] - 11s 236ms/step - loss: 0.3049 - accuracy: 0.9394\n",
            "Epoch 37/50\n",
            "46/46 [==============================] - 11s 236ms/step - loss: 0.2949 - accuracy: 0.9418\n",
            "Epoch 38/50\n",
            "46/46 [==============================] - 11s 235ms/step - loss: 0.2852 - accuracy: 0.9440\n",
            "Epoch 39/50\n",
            "46/46 [==============================] - 11s 236ms/step - loss: 0.2782 - accuracy: 0.9461\n",
            "Epoch 40/50\n",
            "46/46 [==============================] - 11s 236ms/step - loss: 0.2711 - accuracy: 0.9473\n",
            "Epoch 41/50\n",
            "46/46 [==============================] - 11s 234ms/step - loss: 0.2655 - accuracy: 0.9485\n",
            "Epoch 42/50\n",
            "46/46 [==============================] - 12s 236ms/step - loss: 0.2592 - accuracy: 0.9496\n",
            "Epoch 43/50\n",
            "46/46 [==============================] - 11s 235ms/step - loss: 0.2559 - accuracy: 0.9501\n",
            "Epoch 44/50\n",
            "46/46 [==============================] - 11s 236ms/step - loss: 0.2514 - accuracy: 0.9511\n",
            "Epoch 45/50\n",
            "46/46 [==============================] - 11s 235ms/step - loss: 0.2474 - accuracy: 0.9522\n",
            "Epoch 46/50\n",
            "46/46 [==============================] - 11s 235ms/step - loss: 0.2459 - accuracy: 0.9524\n",
            "Epoch 47/50\n",
            "46/46 [==============================] - 11s 236ms/step - loss: 0.2410 - accuracy: 0.9530\n",
            "Epoch 48/50\n",
            "46/46 [==============================] - 11s 235ms/step - loss: 0.2386 - accuracy: 0.9541\n",
            "Epoch 49/50\n",
            "46/46 [==============================] - 11s 235ms/step - loss: 0.2376 - accuracy: 0.9539\n",
            "Epoch 50/50\n",
            "46/46 [==============================] - 11s 235ms/step - loss: 0.2338 - accuracy: 0.9545\n"
          ],
          "name": "stdout"
        },
        {
          "output_type": "execute_result",
          "data": {
            "application/vnd.google.colaboratory.intrinsic+json": {
              "type": "string"
            },
            "text/plain": [
              "'./training_checkpoints/ckpt_50'"
            ]
          },
          "metadata": {
            "tags": []
          },
          "execution_count": 10
        }
      ]
    },
    {
      "cell_type": "code",
      "metadata": {
        "colab": {
          "base_uri": "https://localhost:8080/",
          "height": 563
        },
        "id": "WdRZAcbt08JJ",
        "outputId": "a5458797-5d8c-4f36-915e-80e6a7c7e8cf"
      },
      "source": [
        "import matplotlib.pyplot as plt\n",
        "\n",
        "plt.plot(history.history['loss'])\n",
        "plt.title('Loss')\n",
        "plt.show()\n",
        "\n",
        "plt.plot(history.history['accuracy'])\n",
        "plt.title('accuracy')\n",
        "plt.show"
      ],
      "execution_count": 14,
      "outputs": [
        {
          "output_type": "display_data",
          "data": {
            "image/png": "[encoded data removed]",
            "text/plain": [
              "<Figure size 432x288 with 1 Axes>"
            ]
          },
          "metadata": {
            "tags": [],
            "needs_background": "light"
          }
        },
        {
          "output_type": "execute_result",
          "data": {
            "text/plain": [
              "<function matplotlib.pyplot.show>"
            ]
          },
          "metadata": {
            "tags": []
          },
          "execution_count": 14
        },
        {
          "output_type": "display_data",
          "data": {
            "image/png": "[encoded data removed]",
            "text/plain": [
              "<Figure size 432x288 with 1 Axes>"
            ]
          },
          "metadata": {
            "tags": [],
            "needs_background": "light"
          }
        }
      ]
    },
    {
      "cell_type": "markdown",
      "metadata": {
        "id": "hNU_ZcwQ2Swk"
      },
      "source": [
        "#Generate Text"
      ]
    },
    {
      "cell_type": "code",
      "metadata": {
        "colab": {
          "base_uri": "https://localhost:8080/"
        },
        "id": "rOLTiCnB8xnQ",
        "outputId": "4565e47d-add5-49db-d49a-6e3ca6a6e074"
      },
      "source": [
        "model = build_model(vocab_size,\n",
        "                      embedding_dim,\n",
        "                      batch_size=1)\n",
        "\n",
        "model.load_weights(tf.train.latest_checkpoint(checkpoint_dir))\n",
        "\n",
        "model.build(tf.TensorShape([1, None]))\n",
        "\n",
        "\n",
        "def generate(model, seed_text):\n",
        "  '''Takes in model and outputs generated text based off of the seed text'''\n",
        "\n",
        "  next_word = 500\n",
        "  input_eval = [char2idx[i] for i in seed_text]\n",
        "  input_eval = tf.expand_dims(input_eval, axis=0)\n",
        "\n",
        "  generated_text = []\n",
        "\n",
        "  temp = 1. #Changes the volatility of the text\n",
        "\n",
        "  model.reset_states()\n",
        "\n",
        "  for i in range(next_word):\n",
        "    predictions = model(input_eval)\n",
        "\n",
        "    predictions = tf.squeeze(predictions, 0)\n",
        "\n",
        "    pred = predictions / temp\n",
        "\n",
        "    pred_id = tf.random.categorical(pred, num_samples=1)[-1,0].numpy()\n",
        "\n",
        "    input_eval = tf.expand_dims([pred_id], 0)\n",
        "\n",
        "    generated_text.append(idx2char[pred_id])\n",
        "\n",
        "  return (seed_text + ''.join(generated_text))\n",
        "\n",
        "\n",
        "seed = 'the inevitability'\n",
        "\n",
        "generated_text = generate(model, seed)\n",
        "print(generated_text)"
      ],
      "execution_count": 18,
      "outputs": [
        {
          "output_type": "stream",
          "text": [
            "WARNING:tensorflow:Unresolved object in checkpoint: (root).optimizer\n",
            "WARNING:tensorflow:Unresolved object in checkpoint: (root).optimizer.iter\n",
            "WARNING:tensorflow:Unresolved object in checkpoint: (root).optimizer.beta_1\n",
            "WARNING:tensorflow:Unresolved object in checkpoint: (root).optimizer.beta_2\n",
            "WARNING:tensorflow:Unresolved object in checkpoint: (root).optimizer.decay\n",
            "WARNING:tensorflow:Unresolved object in checkpoint: (root).optimizer.learning_rate\n",
            "WARNING:tensorflow:Unresolved object in checkpoint: (root).optimizer's state 'm' for (root).layer_with_weights-0.embeddings\n",
            "WARNING:tensorflow:Unresolved object in checkpoint: (root).optimizer's state 'm' for (root).layer_with_weights-3.kernel\n",
            "WARNING:tensorflow:Unresolved object in checkpoint: (root).optimizer's state 'm' for (root).layer_with_weights-3.bias\n",
            "WARNING:tensorflow:Unresolved object in checkpoint: (root).optimizer's state 'm' for (root).layer_with_weights-1.cell.kernel\n",
            "WARNING:tensorflow:Unresolved object in checkpoint: (root).optimizer's state 'm' for (root).layer_with_weights-1.cell.recurrent_kernel\n",
            "WARNING:tensorflow:Unresolved object in checkpoint: (root).optimizer's state 'm' for (root).layer_with_weights-1.cell.bias\n",
            "WARNING:tensorflow:Unresolved object in checkpoint: (root).optimizer's state 'm' for (root).layer_with_weights-2.cell.kernel\n",
            "WARNING:tensorflow:Unresolved object in checkpoint: (root).optimizer's state 'm' for (root).layer_with_weights-2.cell.recurrent_kernel\n",
            "WARNING:tensorflow:Unresolved object in checkpoint: (root).optimizer's state 'm' for (root).layer_with_weights-2.cell.bias\n",
            "WARNING:tensorflow:Unresolved object in checkpoint: (root).optimizer's state 'v' for (root).layer_with_weights-0.embeddings\n",
            "WARNING:tensorflow:Unresolved object in checkpoint: (root).optimizer's state 'v' for (root).layer_with_weights-3.kernel\n",
            "WARNING:tensorflow:Unresolved object in checkpoint: (root).optimizer's state 'v' for (root).layer_with_weights-3.bias\n",
            "WARNING:tensorflow:Unresolved object in checkpoint: (root).optimizer's state 'v' for (root).layer_with_weights-1.cell.kernel\n",
            "WARNING:tensorflow:Unresolved object in checkpoint: (root).optimizer's state 'v' for (root).layer_with_weights-1.cell.recurrent_kernel\n",
            "WARNING:tensorflow:Unresolved object in checkpoint: (root).optimizer's state 'v' for (root).layer_with_weights-1.cell.bias\n",
            "WARNING:tensorflow:Unresolved object in checkpoint: (root).optimizer's state 'v' for (root).layer_with_weights-2.cell.kernel\n",
            "WARNING:tensorflow:Unresolved object in checkpoint: (root).optimizer's state 'v' for (root).layer_with_weights-2.cell.recurrent_kernel\n",
            "WARNING:tensorflow:Unresolved object in checkpoint: (root).optimizer's state 'v' for (root).layer_with_weights-2.cell.bias\n",
            "WARNING:tensorflow:A checkpoint was restored (e.g. tf.train.Checkpoint.restore or tf.keras.Model.load_weights) but not all checkpointed values were used. See above for specific issues. Use expect_partial() on the load status object, e.g. tf.train.Checkpoint.restore(...).expect_partial(), to silence these warnings, or use assert_consumed() to make the check explicit. See https://www.tensorflow.org/guide/checkpoint#loading_mechanics for details.\n",
            "the inevitability and obtrusive; he been for the foolished itself into the position\n",
            "of both, he needs are among the f\n"
          ],
          "name": "stdout"
        }
      ]
    },
    {
      "cell_type": "code",
      "metadata": {
        "id": "MDg_Wd9433MX"
      },
      "source": [
        ""
      ],
      "execution_count": null,
      "outputs": []
    }
  ]
}